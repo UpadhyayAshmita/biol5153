{
 "cells": [
  {
   "cell_type": "markdown",
   "metadata": {},
   "source": [
    "# Reading and writing files "
   ]
  },
  {
   "cell_type": "code",
   "execution_count": 6,
   "metadata": {},
   "outputs": [
    {
     "name": "stdout",
     "output_type": "stream",
     "text": [
      "<class '_io.TextIOWrapper'>\n",
      "<_io.TextIOWrapper name='../covid_genome/covid.fasta' mode='r' encoding='cp1252'>\n"
     ]
    }
   ],
   "source": [
    "#put the filename and path if necessary- in a variable\n",
    "filename= \"../covid_genome/covid.fasta\"\n",
    "#open the file\n",
    "genome= open(filename, \"r\")\n",
    "\n",
    "#we created a variable ('genome') when we opened the file :what is it\n",
    "print(type(genome))\n",
    "print(genome)"
   ]
  },
  {
   "cell_type": "markdown",
   "metadata": {},
   "source": [
    "## Reading a file with read()"
   ]
  },
  {
   "cell_type": "code",
   "execution_count": 8,
   "metadata": {},
   "outputs": [],
   "source": [
    "#we interact with the file through the file object, called \"genome\"\n",
    "#read file\n",
    "#read () reads in the entire file in one variable, in this case 'dna_sequence'\n",
    "dna_sequence= genome.read()\n",
    "#print(dna_sequence)"
   ]
  },
  {
   "cell_type": "code",
   "execution_count": 10,
   "metadata": {},
   "outputs": [
    {
     "ename": "ValueError",
     "evalue": "I/O operation on closed file.",
     "output_type": "error",
     "traceback": [
      "\u001b[1;31m---------------------------------------------------------------------------\u001b[0m",
      "\u001b[1;31mValueError\u001b[0m                                Traceback (most recent call last)",
      "Cell \u001b[1;32mIn[10], line 3\u001b[0m\n\u001b[0;32m      1\u001b[0m \u001b[38;5;66;03m#close the file\u001b[39;00m\n\u001b[0;32m      2\u001b[0m genome\u001b[38;5;241m.\u001b[39mclose()\n\u001b[1;32m----> 3\u001b[0m genome\u001b[38;5;241m.\u001b[39mread()\n",
      "\u001b[1;31mValueError\u001b[0m: I/O operation on closed file."
     ]
    }
   ],
   "source": [
    "#close the file\n",
    "genome.close()\n",
    "genome.read()"
   ]
  },
  {
   "cell_type": "code",
   "execution_count": 11,
   "metadata": {},
   "outputs": [],
   "source": [
    "#lets read the file again\n",
    "genome= open(filename,\"r\")\n",
    "dna= genome.read()\n",
    "genome.close()"
   ]
  },
  {
   "cell_type": "markdown",
   "metadata": {},
   "source": [
    "## open a file with with()"
   ]
  },
  {
   "cell_type": "code",
   "execution_count": 13,
   "metadata": {},
   "outputs": [],
   "source": [
    "#another way to read a file \n",
    "with open(\"../other_files/fruit.txt\") as fruit:\n",
    "    fruit_data= fruit.read()"
   ]
  },
  {
   "cell_type": "code",
   "execution_count": 14,
   "metadata": {},
   "outputs": [
    {
     "name": "stdout",
     "output_type": "stream",
     "text": [
      "begin-- 1 apple OH\n",
      "2 pear OH\n",
      "3 pear IL\n",
      "4 apple FL\n",
      "5 pear FL\n",
      "6 apple MI\n",
      " --end\n"
     ]
    }
   ],
   "source": [
    "print(\"begin--\", fruit_data, \"--end\")"
   ]
  },
  {
   "cell_type": "code",
   "execution_count": null,
   "metadata": {},
   "outputs": [],
   "source": [
    "#file open with with are automatically closed \n"
   ]
  },
  {
   "cell_type": "markdown",
   "metadata": {},
   "source": [
    "## looping over the lines in a file"
   ]
  },
  {
   "cell_type": "code",
   "execution_count": null,
   "metadata": {},
   "outputs": [],
   "source": [
    "#use a for () loop to read the file line by line\n",
    "album= open(\"../other_files/blood_on_the_tracks.txt\", \"r\")\n",
    "\n",
    "# create a counter\n",
    "song_num= 0\n",
    "\n",
    "#read the file line by line\n",
    "for i in album:\n",
    "    #remove the line break \n",
    "    i= i.strip()\n",
    "    #increment the counter\n",
    "    song_num+= 1\n",
    "    #print the outputS\n",
    "    print(\"song_number\"+ str(song_num)+ \": \"+ i)\n",
    "\n",
    "album.close()    "
   ]
  },
  {
   "cell_type": "code",
   "execution_count": 33,
   "metadata": {},
   "outputs": [],
   "source": [
    "#open an output file\n",
    "out= open(\"out.txt\", \"w\")\n",
    "#open the file \n",
    "album= open(\"../other_files/blood_on_the_tracks.txt\", \"r\")\n",
    "#counter \n",
    "i= 1\n",
    "#read the input file line by line\n",
    "for track in album:\n",
    "    track= track.strip()\n",
    "    output_string= \"song # \"+ str(i) + \": \" + track + \"\\n\"\n",
    "    out.write(output_string)\n",
    "    i += 1"
   ]
  },
  {
   "cell_type": "code",
   "execution_count": 34,
   "metadata": {},
   "outputs": [],
   "source": [
    "#close the output\n",
    "out.close()"
   ]
  },
  {
   "cell_type": "code",
   "execution_count": null,
   "metadata": {},
   "outputs": [],
   "source": []
  }
 ],
 "metadata": {
  "kernelspec": {
   "display_name": "base",
   "language": "python",
   "name": "python3"
  },
  "language_info": {
   "codemirror_mode": {
    "name": "ipython",
    "version": 3
   },
   "file_extension": ".py",
   "mimetype": "text/x-python",
   "name": "python",
   "nbconvert_exporter": "python",
   "pygments_lexer": "ipython3",
   "version": "3.11.5"
  }
 },
 "nbformat": 4,
 "nbformat_minor": 2
}
