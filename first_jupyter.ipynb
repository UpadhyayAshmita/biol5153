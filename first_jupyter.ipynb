{
 "cells": [
  {
   "cell_type": "markdown",
   "metadata": {},
   "source": [
    "## Understanding `print()`"
   ]
  },
  {
   "cell_type": "code",
   "execution_count": 1,
   "metadata": {},
   "outputs": [
    {
     "name": "stdout",
     "output_type": "stream",
     "text": [
      "Hello world\n",
      "Hello world\n"
     ]
    }
   ],
   "source": [
    "print('Hello world')\n",
    "print(\"Hello world\")"
   ]
  },
  {
   "cell_type": "code",
   "execution_count": 3,
   "metadata": {},
   "outputs": [
    {
     "name": "stdout",
     "output_type": "stream",
     "text": [
      "She said,'hello world'\n",
      "She said,\"hello world\"\n"
     ]
    }
   ],
   "source": [
    "print(\"She said,'hello world'\")\n",
    "print(\"She said,\\\"hello world\\\"\")"
   ]
  },
  {
   "cell_type": "code",
   "execution_count": 4,
   "metadata": {},
   "outputs": [
    {
     "name": "stdout",
     "output_type": "stream",
     "text": [
      "She said, 'hello world'She said,\"hello world\"\n"
     ]
    }
   ],
   "source": [
    "print(\"She said, 'hello world'\", end= '')\n",
    "print('She said,\"hello world\"')"
   ]
  },
  {
   "cell_type": "markdown",
   "metadata": {},
   "source": [
    "### store and print a variable"
   ]
  },
  {
   "cell_type": "code",
   "execution_count": 10,
   "metadata": {},
   "outputs": [
    {
     "name": "stdout",
     "output_type": "stream",
     "text": [
      "Bob\n",
      "Dylan\n",
      "BobDylan\n",
      "BobDylanfirst\n",
      "Bob Dylan is really old\n",
      "Bob Dylan is really old\n"
     ]
    }
   ],
   "source": [
    "#define some strings\n",
    "first= \"Bob\"\n",
    "last= \"Dylan\"\n",
    "\n",
    "x=9\n",
    "y=7\n",
    "#concatenate those strings\n",
    "full= first + last\n",
    "Z= x+y\n",
    "\n",
    "#print the strings\n",
    "print(first)\n",
    "print(last)\n",
    "print(full)\n",
    "print(first + last+ \"first\")\n",
    "print(first+ \" \" + last + \" is really old\")\n",
    "print(first, last, \"is really old\")"
   ]
  },
  {
   "cell_type": "markdown",
   "metadata": {},
   "source": [
    "### Get the length of the string"
   ]
  },
  {
   "cell_type": "code",
   "execution_count": 12,
   "metadata": {},
   "outputs": [
    {
     "name": "stdout",
     "output_type": "stream",
     "text": [
      "8\n",
      "8\n"
     ]
    }
   ],
   "source": [
    "#the long (but readable)way\n",
    "name_length= len(full)\n",
    "print(name_length)\n",
    "\n",
    "#a more concise way to do it , functions within functions\n",
    "print(len(full))"
   ]
  },
  {
   "cell_type": "markdown",
   "metadata": {},
   "source": [
    "### print strings and numbers"
   ]
  },
  {
   "cell_type": "code",
   "execution_count": 17,
   "metadata": {},
   "outputs": [
    {
     "name": "stdout",
     "output_type": "stream",
     "text": [
      "There are 8 characters in Bob dylan's name.\n",
      "There are 8 characters in Bob Dylan's name.\n"
     ]
    }
   ],
   "source": [
    "#print strings and numbers\n",
    "print(\"There are\", len(first + last), \"characters in Bob dylan's name.\")\n",
    "\n",
    "#print strings\n",
    "print(\"There are \"+ str(len(first+last))+ \" characters in Bob Dylan's name.\")"
   ]
  },
  {
   "cell_type": "markdown",
   "metadata": {},
   "source": [
    "### If x=7 and y= \"7\", write two print statements to print \"77\" and \"14\" as the output"
   ]
  },
  {
   "cell_type": "code",
   "execution_count": 18,
   "metadata": {},
   "outputs": [
    {
     "name": "stdout",
     "output_type": "stream",
     "text": [
      "77\n",
      "14\n"
     ]
    }
   ],
   "source": [
    "x= 7\n",
    "y= \"7\"\n",
    "#print the string \"77\"\n",
    "print(str(x)+ y)\n",
    "#add two numbers together \n",
    "print(x + int(y))"
   ]
  },
  {
   "cell_type": "markdown",
   "metadata": {},
   "source": [
    "### some operations on strings"
   ]
  },
  {
   "cell_type": "code",
   "execution_count": 23,
   "metadata": {},
   "outputs": [
    {
     "name": "stdout",
     "output_type": "stream",
     "text": [
      "bob\n",
      "bob\n",
      "bob\n",
      "BOB\n",
      "bob\n",
      "Bob\n"
     ]
    }
   ],
   "source": [
    "#methods to change the case of strings\n",
    "print(first)\n",
    "\n",
    "#lowercase and print\n",
    "print(first.lower())\n",
    "\n",
    "#change the value of variable; lowercase and save to first\n",
    "first= first.lower()\n",
    "#print the changed variable\n",
    "print(first)\n",
    "print(first.upper())\n",
    "print(first.lower())\n",
    "print(first.capitalize())"
   ]
  },
  {
   "cell_type": "code",
   "execution_count": 26,
   "metadata": {},
   "outputs": [
    {
     "name": "stdout",
     "output_type": "stream",
     "text": [
      "ACGTTAC\n",
      "ACGUUAC\n"
     ]
    }
   ],
   "source": [
    "#make some replacements\n",
    "dna= 'ACGTTAC'\n",
    "print(dna)\n",
    "#print the dna as rna string\n",
    "print(dna.replace(\"T\", \"U\"))"
   ]
  },
  {
   "cell_type": "markdown",
   "metadata": {},
   "source": [
    "### formatted printing of strings"
   ]
  },
  {
   "cell_type": "code",
   "execution_count": 31,
   "metadata": {},
   "outputs": [
    {
     "name": "stdout",
     "output_type": "stream",
     "text": [
      "I love tacos and \"geeks.\"\n",
      "Freaks and Geeks\n",
      "Alicia Keys is better than Beyonce.\n",
      "I love Freaks and \"Geeks.\n"
     ]
    }
   ],
   "source": [
    "print('I love {} and \"{}.\"'. format('tacos', 'geeks'))\n",
    "#using format() method and refering a position of the object\n",
    "print('{0} and {1}'. format('Freaks', 'Geeks'))\n",
    "\n",
    "#combining positional and keyword arguments\n",
    "print('{0} is {1} than {other}.'\n",
    "      .format('Alicia Keys', 'better', other= 'Beyonce'))\n",
    "#use f\n",
    "print(f\"I love {'Freaks'} and \\\"{'Geeks'}.\")"
   ]
  }
 ],
 "metadata": {
  "kernelspec": {
   "display_name": "base",
   "language": "python",
   "name": "python3"
  },
  "language_info": {
   "codemirror_mode": {
    "name": "ipython",
    "version": 3
   },
   "file_extension": ".py",
   "mimetype": "text/x-python",
   "name": "python",
   "nbconvert_exporter": "python",
   "pygments_lexer": "ipython3",
   "version": "3.11.5"
  }
 },
 "nbformat": 4,
 "nbformat_minor": 2
}
