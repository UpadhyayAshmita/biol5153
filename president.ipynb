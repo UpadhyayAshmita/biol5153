{
 "cells": [
  {
   "cell_type": "code",
   "execution_count": 51,
   "metadata": {},
   "outputs": [],
   "source": [
    "from collections import defaultdict\n",
    "import csv\n",
    "#declare input file \n",
    "input_file= 'presidents.csv'"
   ]
  },
  {
   "cell_type": "code",
   "execution_count": null,
   "metadata": {},
   "outputs": [],
   "source": [
    "#declare our dictionary; key= president number, value = president's name\n",
    "presidents= defaultdict(str)\n",
    "#declare our dictionary; key= president name, value = wikipedia page\n",
    "wikis= defaultdict[str]\n",
    "\n",
    "with open (input_file, \"r\") as prez_file:\n",
    "\n",
    "    # craete a csv reader object \n",
    "    reader= csv.reader(prez_file, delimiter= ',')\n",
    "\n",
    "    #loop over the file line by line \n",
    "    for line in reader:\n",
    "        #print(type)\n",
    "        #strip anything random whitespace from data\n",
    "        num= line[0].strip()\n",
    "        name= line[1].strip()\n",
    "        party= line[5].strip()\n",
    "        wiki= line[2].strip()\n",
    "        \n",
    "        if (name == 'President'):\n",
    "            continue\n",
    "        else:\n",
    "            #print('--' + name + '--' + party)\n",
    "            presidents[num]= name\n",
    "            wikis[name]= wiki"
   ]
  },
  {
   "cell_type": "code",
   "execution_count": 32,
   "metadata": {},
   "outputs": [
    {
     "name": "stdout",
     "output_type": "stream",
     "text": [
      "Abraham Lincoln\n",
      "George Washington\n",
      "Not elected yet\n",
      "George Washington\n"
     ]
    }
   ],
   "source": [
    "#get stuff out of our dictionary\n",
    "print(presidents.get('16'))\n",
    "print(presidents.get('1'))\n",
    "print(presidents.get('46', \"Not elected yet\"))\n",
    "print(presidents['1'])"
   ]
  },
  {
   "cell_type": "code",
   "execution_count": null,
   "metadata": {},
   "outputs": [],
   "source": [
    "#loop over the dictionary \n",
    "for num in presidents.keys():\n",
    "    print(\"President\", num, \"was\", presidents[num])"
   ]
  },
  {
   "cell_type": "code",
   "execution_count": null,
   "metadata": {},
   "outputs": [],
   "source": [
    "#a little bit better way to loop over a dictionary\n",
    "for number, pres_name in presidents.items():\n",
    "    print(number, pres_name)"
   ]
  },
  {
   "cell_type": "code",
   "execution_count": null,
   "metadata": {},
   "outputs": [],
   "source": []
  }
 ],
 "metadata": {
  "kernelspec": {
   "display_name": "base",
   "language": "python",
   "name": "python3"
  },
  "language_info": {
   "codemirror_mode": {
    "name": "ipython",
    "version": 3
   },
   "file_extension": ".py",
   "mimetype": "text/x-python",
   "name": "python",
   "nbconvert_exporter": "python",
   "pygments_lexer": "ipython3",
   "version": "3.11.5"
  }
 },
 "nbformat": 4,
 "nbformat_minor": 2
}
