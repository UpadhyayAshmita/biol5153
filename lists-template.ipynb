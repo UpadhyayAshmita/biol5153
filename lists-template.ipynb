{
 "cells": [
  {
   "cell_type": "markdown",
   "metadata": {},
   "source": [
    "## Working with lists"
   ]
  },
  {
   "cell_type": "code",
   "execution_count": 43,
   "metadata": {},
   "outputs": [],
   "source": [
    "# declare an empty string\n",
    "bob = ''\n",
    "\n",
    "# declare a list\n",
    "beatles = []"
   ]
  },
  {
   "cell_type": "markdown",
   "metadata": {},
   "source": [
    "### What kind of variable is this?"
   ]
  },
  {
   "cell_type": "code",
   "execution_count": 44,
   "metadata": {},
   "outputs": [
    {
     "name": "stdout",
     "output_type": "stream",
     "text": [
      "<class 'str'>\n"
     ]
    }
   ],
   "source": [
    "print(type(bob))"
   ]
  },
  {
   "cell_type": "markdown",
   "metadata": {},
   "source": [
    "### Populate and print a list"
   ]
  },
  {
   "cell_type": "code",
   "execution_count": 45,
   "metadata": {},
   "outputs": [
    {
     "name": "stdout",
     "output_type": "stream",
     "text": [
      "['John', 'Paul', 'George', 'Ringo']\n"
     ]
    }
   ],
   "source": [
    "beatles = [\"John\", \"Paul\", \"George\", \"Ringo\"]\n",
    "print(beatles)"
   ]
  },
  {
   "cell_type": "markdown",
   "metadata": {
    "tags": []
   },
   "source": [
    "### Calculate and print the length of a list"
   ]
  },
  {
   "cell_type": "code",
   "execution_count": 46,
   "metadata": {
    "tags": []
   },
   "outputs": [
    {
     "name": "stdout",
     "output_type": "stream",
     "text": [
      "There are 4 Beatles.\n",
      "0\n"
     ]
    }
   ],
   "source": [
    "# calculate number of beatles\n",
    "number_of_beatles = len(beatles)\n",
    "# print number of beatles\n",
    "print(\"There are\", number_of_beatles, \"Beatles.\")\n",
    "print(len(bob))"
   ]
  },
  {
   "cell_type": "markdown",
   "metadata": {},
   "source": [
    "### Print an item in a list \n",
    "   \n",
    "   _see PowerPoint slides_"
   ]
  },
  {
   "cell_type": "code",
   "execution_count": 11,
   "metadata": {
    "tags": []
   },
   "outputs": [
    {
     "name": "stdout",
     "output_type": "stream",
     "text": [
      "John\n",
      "Ringo\n",
      "Ringo\n",
      "George\n",
      "Ringo\n",
      "Ringo\n"
     ]
    }
   ],
   "source": [
    "# print the first beatle\n",
    "print(beatles[0])\n",
    "\n",
    "# print the last Beatle\n",
    "print(beatles[3])\n",
    "print(beatles[-1])\n",
    "print(beatles[-2])\n",
    "print(beatles[len(beatles)-1])\n",
    "last=3\n",
    "print(beatles[last])"
   ]
  },
  {
   "cell_type": "markdown",
   "metadata": {
    "tags": []
   },
   "source": [
    "### Remove an item from a list"
   ]
  },
  {
   "cell_type": "code",
   "execution_count": 22,
   "metadata": {
    "tags": []
   },
   "outputs": [
    {
     "name": "stdout",
     "output_type": "stream",
     "text": [
      "['John', 'Paul', 'George', 'Ringo', 'Stuart']\n"
     ]
    }
   ],
   "source": [
    "#add stuart\n",
    "beatles.append('Stuart')\n",
    "print(beatles)\n"
   ]
  },
  {
   "cell_type": "code",
   "execution_count": 23,
   "metadata": {},
   "outputs": [
    {
     "name": "stdout",
     "output_type": "stream",
     "text": [
      "['John', 'Paul', 'George', 'Ringo']\n"
     ]
    }
   ],
   "source": [
    "# Remove the last item in the list (bye, Stuart)\n",
    "gone= beatles.pop()\n",
    "\n",
    "#what happend to the beatles\n",
    "print(beatles)"
   ]
  },
  {
   "cell_type": "markdown",
   "metadata": {},
   "source": [
    "### Make a new list"
   ]
  },
  {
   "cell_type": "code",
   "execution_count": 24,
   "metadata": {},
   "outputs": [],
   "source": [
    "# make a list called 'stones' with the Rolling Stones (Mick, Ron, and Keith)\n",
    "stones= [\"Mick\", \"Ron\", \"Keith\"]"
   ]
  },
  {
   "cell_type": "markdown",
   "metadata": {},
   "source": [
    "### Add two lists"
   ]
  },
  {
   "cell_type": "code",
   "execution_count": 26,
   "metadata": {
    "tags": []
   },
   "outputs": [
    {
     "name": "stdout",
     "output_type": "stream",
     "text": [
      "bobdylan\n",
      "['John', 'Paul', 'George', 'Ringo', 'Mick', 'Ron', 'Keith']\n"
     ]
    }
   ],
   "source": [
    "#add two strings\n",
    "first= \"bob\"\n",
    "last= \"dylan\"\n",
    "print(first + last)\n",
    "# add two lists together\n",
    "supergroup= beatles + stones\n",
    "# print our new list\n",
    "print(supergroup)"
   ]
  },
  {
   "cell_type": "markdown",
   "metadata": {},
   "source": [
    "### Make some new lists"
   ]
  },
  {
   "cell_type": "code",
   "execution_count": 47,
   "metadata": {},
   "outputs": [],
   "source": [
    "# start fresh with new groups\n",
    "jackson5 = ['jackie', 'tito', 'jermaine', 'marlon', 'michael']\n",
    "destiny  = ['beyonce', 'kelly', 'michelle']\n",
    "top40    = ['taylorswift', 'postmalone']\n",
    "\n",
    "# make a supergroup"
   ]
  },
  {
   "cell_type": "markdown",
   "metadata": {},
   "source": [
    "### Growing a list with `extend()`"
   ]
  },
  {
   "cell_type": "code",
   "execution_count": 40,
   "metadata": {
    "tags": []
   },
   "outputs": [
    {
     "name": "stdout",
     "output_type": "stream",
     "text": [
      "['jackie', 'tito', 'jermaine', 'marlon', 'michael']\n",
      "['beyonce', 'kelly', 'michelle', 'bob', 'bob', ['george', 'paul', 'ringo', 'john'], 'bob', ['george', 'paul', 'ringo', 'john']]\n",
      "['jackie', 'tito', 'jermaine', 'marlon', 'michael', 'person1', 'person2']\n"
     ]
    }
   ],
   "source": [
    "# print our lists\n",
    "print(jackson5)\n",
    "print(destiny)\n",
    "# use extend() to add Destiny's Child to the Jackson 5\n",
    "jackson5.extend(['person1', 'person2'])\n",
    "print(jackson5)\n"
   ]
  },
  {
   "cell_type": "code",
   "execution_count": 30,
   "metadata": {},
   "outputs": [
    {
     "name": "stdout",
     "output_type": "stream",
     "text": [
      "['jackie', 'tito', 'jermaine', 'marlon', 'michael', 'beyonce', 'kelly', 'michelle', 'beyonce', 'kelly', 'michelle']\n"
     ]
    }
   ],
   "source": [
    "\n",
    "# extend() modifies a list in place, it doesn't return a value (i.e., a new list)\n",
    "print(jackson5)"
   ]
  },
  {
   "cell_type": "code",
   "execution_count": 41,
   "metadata": {
    "tags": []
   },
   "outputs": [
    {
     "name": "stdout",
     "output_type": "stream",
     "text": [
      "['jackie', 'tito', 'jermaine', 'marlon', 'michael', 'person1', 'person2', 'beyonce', 'kelly', 'michelle', 'bob', 'bob', ['george', 'paul', 'ringo', 'john'], 'bob', ['george', 'paul', 'ringo', 'john']]\n"
     ]
    }
   ],
   "source": [
    "# use \"+\" if you want to create a new list\n",
    "super = jackson5 + destiny\n",
    "print(super)"
   ]
  },
  {
   "cell_type": "markdown",
   "metadata": {},
   "source": [
    "### Growing a list with `append()`"
   ]
  },
  {
   "cell_type": "code",
   "execution_count": 48,
   "metadata": {
    "tags": []
   },
   "outputs": [
    {
     "name": "stdout",
     "output_type": "stream",
     "text": [
      "['beyonce', 'kelly', 'michelle', 'bob']\n",
      "['beyonce', 'kelly', 'michelle', 'bob', ['george', 'paul', 'ringo', 'john']]\n"
     ]
    }
   ],
   "source": [
    "# use `append()` to add some old men\n",
    "destiny.append('bob')\n",
    "print(destiny)\n",
    "destiny.append(['george', 'paul', 'ringo', 'john'])\n",
    "print(destiny)\n",
    "\n",
    "# What did append do?"
   ]
  },
  {
   "cell_type": "code",
   "execution_count": 49,
   "metadata": {},
   "outputs": [
    {
     "name": "stdout",
     "output_type": "stream",
     "text": [
      "<class 'str'>\n",
      "<class 'list'>\n"
     ]
    }
   ],
   "source": [
    "print(type(destiny[3]))\n",
    "print(type(destiny[4]))"
   ]
  },
  {
   "cell_type": "code",
   "execution_count": 51,
   "metadata": {
    "tags": []
   },
   "outputs": [
    {
     "name": "stdout",
     "output_type": "stream",
     "text": [
      "5\n",
      "bob\n",
      "['george', 'paul', 'ringo', 'john']\n"
     ]
    }
   ],
   "source": [
    "# How long is this list?\n",
    "print(len(destiny))\n",
    "# Find and print Ringo, who is buried in there\n",
    "print(destiny[3])\n",
    "print(destiny[-1])\n"
   ]
  },
  {
   "cell_type": "code",
   "execution_count": 52,
   "metadata": {},
   "outputs": [
    {
     "name": "stdout",
     "output_type": "stream",
     "text": [
      "['george', 'paul', 'ringo', 'john']\n"
     ]
    }
   ],
   "source": [
    "my_new_list= destiny[4]\n",
    "print(destiny[4])"
   ]
  },
  {
   "cell_type": "code",
   "execution_count": 53,
   "metadata": {},
   "outputs": [
    {
     "name": "stdout",
     "output_type": "stream",
     "text": [
      "ringo\n"
     ]
    }
   ],
   "source": [
    "print(my_new_list[2])"
   ]
  },
  {
   "cell_type": "code",
   "execution_count": 54,
   "metadata": {},
   "outputs": [
    {
     "name": "stdout",
     "output_type": "stream",
     "text": [
      "ringo\n"
     ]
    }
   ],
   "source": [
    "print(destiny[4][2])"
   ]
  },
  {
   "cell_type": "markdown",
   "metadata": {},
   "source": [
    "### looping over a list \n",
    "\n",
    "### structure of a for loop\n",
    "for <variable> in <name of list>"
   ]
  },
  {
   "cell_type": "code",
   "execution_count": 57,
   "metadata": {},
   "outputs": [
    {
     "name": "stdout",
     "output_type": "stream",
     "text": [
      "beyonce\n",
      "kelly\n",
      "michelle\n",
      "bob\n",
      "['george', 'paul', 'ringo', 'john']\n",
      "outside the loop: ['george', 'paul', 'ringo', 'john']\n"
     ]
    }
   ],
   "source": [
    "#loop over destiny\n",
    "for i in destiny:\n",
    "    print(i)\n",
    "\n",
    "print(\"outside the loop:\", i)"
   ]
  },
  {
   "cell_type": "code",
   "execution_count": 59,
   "metadata": {},
   "outputs": [
    {
     "name": "stdout",
     "output_type": "stream",
     "text": [
      "george\n",
      "paul\n",
      "ringo\n",
      "john\n"
     ]
    }
   ],
   "source": [
    "#print just the beatles part of destiny\n",
    "for old_man in destiny[4]:\n",
    "    print(old_man)"
   ]
  },
  {
   "cell_type": "code",
   "execution_count": 66,
   "metadata": {},
   "outputs": [
    {
     "name": "stdout",
     "output_type": "stream",
     "text": [
      "It's a string: beyonce\n",
      "It's a string: kelly\n",
      "It's a string: michelle\n",
      "It's a string: bob\n",
      "It's a list: ['george', 'paul', 'ringo', 'john']\n"
     ]
    }
   ],
   "source": [
    "for i in destiny:\n",
    "    if type(i) is list:\n",
    "        print(\"It's a list:\",i)\n",
    "    else:\n",
    "        print(\"It's a string:\", i)"
   ]
  },
  {
   "cell_type": "code",
   "execution_count": 71,
   "metadata": {},
   "outputs": [
    {
     "name": "stdout",
     "output_type": "stream",
     "text": [
      "beyonce\n",
      "kelly\n",
      "michelle\n",
      "bob\n",
      "george\n",
      "paul\n",
      "ringo\n",
      "john\n"
     ]
    }
   ],
   "source": [
    "j=0\n",
    "k-0\n",
    "for i in destiny:\n",
    "    #if list returns true\n",
    "    if type(i) is list:\n",
    "        for dude in i:\n",
    "            print(dude)\n",
    "    #else we know it's string\n",
    "    else:\n",
    "        print(i)"
   ]
  },
  {
   "cell_type": "code",
   "execution_count": null,
   "metadata": {},
   "outputs": [],
   "source": []
  }
 ],
 "metadata": {
  "kernelspec": {
   "display_name": "Python 3",
   "language": "python",
   "name": "python3"
  },
  "language_info": {
   "codemirror_mode": {
    "name": "ipython",
    "version": 3
   },
   "file_extension": ".py",
   "mimetype": "text/x-python",
   "name": "python",
   "nbconvert_exporter": "python",
   "pygments_lexer": "ipython3",
   "version": "3.11.5"
  }
 },
 "nbformat": 4,
 "nbformat_minor": 2
}
